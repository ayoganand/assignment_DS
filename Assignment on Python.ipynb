{
 "cells": [
  {
   "cell_type": "code",
   "execution_count": 1,
   "metadata": {},
   "outputs": [],
   "source": [
    "mystring = \"I am very keen in building up my career in Data Science, but not sure from where to start. If I search the web it throws me thousands of articles, few are relevant others make me confused, again I come around to the same page. Supervised has provided me a good platform to remove all such qualms which were wrangling in my mind\""
   ]
  },
  {
   "cell_type": "code",
   "execution_count": 16,
   "metadata": {
    "scrolled": true
   },
   "outputs": [
    {
     "data": {
      "text/plain": [
       "5.190476190476191"
      ]
     },
     "execution_count": 16,
     "metadata": {},
     "output_type": "execute_result"
    }
   ],
   "source": [
    "#avg. length\n",
    "len(mystring)/len(mystring.split())"
   ]
  },
  {
   "cell_type": "code",
   "execution_count": 17,
   "metadata": {},
   "outputs": [],
   "source": [
    "#lower the text in the string"
   ]
  },
  {
   "cell_type": "code",
   "execution_count": 18,
   "metadata": {},
   "outputs": [
    {
     "data": {
      "text/plain": [
       "'i am very keen in building up my career in data science, but not sure from where to start. if i search the web it throws me thousands of articles, few are relevant others make me confused, again i come around to the same page. supervised has provided me a good platform to remove all such qualms which were wrangling in my mind'"
      ]
     },
     "execution_count": 18,
     "metadata": {},
     "output_type": "execute_result"
    }
   ],
   "source": [
    "mystring.lower()"
   ]
  },
  {
   "cell_type": "markdown",
   "metadata": {},
   "source": [
    "#remove all punctuation"
   ]
  },
  {
   "cell_type": "code",
   "execution_count": 37,
   "metadata": {},
   "outputs": [],
   "source": [
    "newstring=\"\"\n",
    "for i in mystring:\n",
    "    if i.isalpha() or i==\" \":\n",
    "        newstring = newstring + i"
   ]
  },
  {
   "cell_type": "code",
   "execution_count": 38,
   "metadata": {},
   "outputs": [
    {
     "data": {
      "text/plain": [
       "'I am very keen in building up my career in Data Science but not sure from where to start If I search the web it throws me thousands of articles few are relevant others make me confused again I come around to the same page Supervised has provided me a good platform to remove all such qualms which were wrangling in my mind'"
      ]
     },
     "execution_count": 38,
     "metadata": {},
     "output_type": "execute_result"
    }
   ],
   "source": [
    "newstring"
   ]
  },
  {
   "cell_type": "code",
   "execution_count": 40,
   "metadata": {},
   "outputs": [],
   "source": [
    "#extract word \"Data Science\""
   ]
  },
  {
   "cell_type": "code",
   "execution_count": 39,
   "metadata": {},
   "outputs": [
    {
     "data": {
      "text/plain": [
       "43"
      ]
     },
     "execution_count": 39,
     "metadata": {},
     "output_type": "execute_result"
    }
   ],
   "source": [
    "mystring.find(\"Data Science\")"
   ]
  },
  {
   "cell_type": "code",
   "execution_count": 41,
   "metadata": {},
   "outputs": [],
   "source": [
    "mylist = newstring.split() #newstring is where no punctuation removed from original"
   ]
  },
  {
   "cell_type": "code",
   "execution_count": 55,
   "metadata": {},
   "outputs": [
    {
     "name": "stdout",
     "output_type": "stream",
     "text": [
      "frequency of \"I\" :  4\n",
      "frequency of \"am\" :  2\n",
      "frequency of \"very\" :  1\n",
      "frequency of \"keen\" :  1\n",
      "frequency of \"in\" :  7\n",
      "frequency of \"building\" :  1\n",
      "frequency of \"up\" :  2\n",
      "frequency of \"my\" :  2\n",
      "frequency of \"career\" :  1\n",
      "frequency of \"Data\" :  1\n",
      "frequency of \"Science\" :  1\n",
      "frequency of \"but\" :  1\n",
      "frequency of \"not\" :  1\n",
      "frequency of \"sure\" :  1\n",
      "frequency of \"from\" :  1\n",
      "frequency of \"where\" :  1\n",
      "frequency of \"to\" :  3\n",
      "frequency of \"start\" :  1\n",
      "frequency of \"If\" :  1\n",
      "frequency of \"search\" :  1\n",
      "frequency of \"the\" :  3\n",
      "frequency of \"web\" :  1\n",
      "frequency of \"it\" :  1\n",
      "frequency of \"throws\" :  1\n",
      "frequency of \"me\" :  5\n",
      "frequency of \"thousands\" :  1\n",
      "frequency of \"of\" :  1\n",
      "frequency of \"articles\" :  1\n",
      "frequency of \"few\" :  1\n",
      "frequency of \"are\" :  2\n",
      "frequency of \"relevant\" :  1\n",
      "frequency of \"others\" :  1\n",
      "frequency of \"make\" :  1\n",
      "frequency of \"confused\" :  1\n",
      "frequency of \"again\" :  1\n",
      "frequency of \"come\" :  1\n",
      "frequency of \"around\" :  1\n",
      "frequency of \"same\" :  1\n",
      "frequency of \"page\" :  1\n",
      "frequency of \"Supervised\" :  1\n",
      "frequency of \"has\" :  1\n",
      "frequency of \"provided\" :  1\n",
      "frequency of \"a\" :  22\n",
      "frequency of \"good\" :  1\n",
      "frequency of \"platform\" :  1\n",
      "frequency of \"remove\" :  1\n",
      "frequency of \"all\" :  1\n",
      "frequency of \"such\" :  1\n",
      "frequency of \"qualms\" :  1\n",
      "frequency of \"which\" :  1\n",
      "frequency of \"were\" :  1\n",
      "frequency of \"wrangling\" :  1\n",
      "frequency of \"mind\" :  1\n"
     ]
    }
   ],
   "source": [
    "unilist=[]\n",
    "for i in mylist:\n",
    "    if i in unilist:\n",
    "        continue\n",
    "    else:\n",
    "        unilist.append(i)\n",
    "for i in unilist:\n",
    "    print (\"frequency of \\\"\"+i+\"\\\" : \",mystring.count(i))"
   ]
  },
  {
   "cell_type": "code",
   "execution_count": 52,
   "metadata": {},
   "outputs": [],
   "source": [
    "#all words which frequency morethen one"
   ]
  },
  {
   "cell_type": "code",
   "execution_count": 54,
   "metadata": {},
   "outputs": [
    {
     "name": "stdout",
     "output_type": "stream",
     "text": [
      "words has frequency 1\n",
      "I\n",
      "am\n",
      "in\n",
      "up\n",
      "my\n",
      "to\n",
      "the\n",
      "me\n",
      "are\n",
      "a\n"
     ]
    }
   ],
   "source": [
    "print (\"words has frequency 1\")\n",
    "for i in unilist:\n",
    "    if (mystring.count(i))>1:\n",
    "        print (i)"
   ]
  },
  {
   "cell_type": "code",
   "execution_count": 56,
   "metadata": {},
   "outputs": [],
   "source": [
    "#\"supervised\" to \"unsupervised\""
   ]
  },
  {
   "cell_type": "code",
   "execution_count": 57,
   "metadata": {},
   "outputs": [
    {
     "data": {
      "text/plain": [
       "'I am very keen in building up my career in Data Science, but not sure from where to start. If I search the web it throws me thousands of articles, few are relevant others make me confused, again I come around to the same page. Unsupervised has provided me a good platform to remove all such qualms which were wrangling in my mind'"
      ]
     },
     "execution_count": 57,
     "metadata": {},
     "output_type": "execute_result"
    }
   ],
   "source": [
    "mystring.replace(\"Supervised\",\"Unsupervised\")"
   ]
  },
  {
   "cell_type": "code",
   "execution_count": 59,
   "metadata": {},
   "outputs": [],
   "source": [
    "#split string with (.)"
   ]
  },
  {
   "cell_type": "code",
   "execution_count": 58,
   "metadata": {},
   "outputs": [
    {
     "data": {
      "text/plain": [
       "['I am very keen in building up my career in Data Science, but not sure from where to start',\n",
       " ' If I search the web it throws me thousands of articles, few are relevant others make me confused, again I come around to the same page',\n",
       " ' Supervised has provided me a good platform to remove all such qualms which were wrangling in my mind']"
      ]
     },
     "execution_count": 58,
     "metadata": {},
     "output_type": "execute_result"
    }
   ],
   "source": [
    "mystring.split('.')"
   ]
  },
  {
   "cell_type": "code",
   "execution_count": 62,
   "metadata": {},
   "outputs": [],
   "source": [
    "#ends with \"e\""
   ]
  },
  {
   "cell_type": "code",
   "execution_count": 61,
   "metadata": {},
   "outputs": [
    {
     "name": "stdout",
     "output_type": "stream",
     "text": [
      "Science\n",
      "sure\n",
      "where\n",
      "the\n",
      "me\n",
      "are\n",
      "make\n",
      "come\n",
      "same\n",
      "page\n",
      "remove\n",
      "were\n"
     ]
    }
   ],
   "source": [
    "for i in unilist:\n",
    "    if i.endswith('e'):\n",
    "        print (i)"
   ]
  },
  {
   "cell_type": "code",
   "execution_count": 63,
   "metadata": {},
   "outputs": [],
   "source": [
    "#no, of a's in the string"
   ]
  },
  {
   "cell_type": "code",
   "execution_count": 64,
   "metadata": {},
   "outputs": [
    {
     "data": {
      "text/plain": [
       "22"
      ]
     },
     "execution_count": 64,
     "metadata": {},
     "output_type": "execute_result"
    }
   ],
   "source": [
    "mystring.count('a')"
   ]
  },
  {
   "cell_type": "code",
   "execution_count": null,
   "metadata": {},
   "outputs": [],
   "source": []
  }
 ],
 "metadata": {
  "kernelspec": {
   "display_name": "Python 3",
   "language": "python",
   "name": "python3"
  },
  "language_info": {
   "codemirror_mode": {
    "name": "ipython",
    "version": 3
   },
   "file_extension": ".py",
   "mimetype": "text/x-python",
   "name": "python",
   "nbconvert_exporter": "python",
   "pygments_lexer": "ipython3",
   "version": "3.7.4"
  }
 },
 "nbformat": 4,
 "nbformat_minor": 2
}
